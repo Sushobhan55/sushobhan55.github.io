{
 "cells": [
  {
   "cell_type": "markdown",
   "id": "a12a6e94",
   "metadata": {},
   "source": [
    "# Benford's Law in Stock Returns"
   ]
  },
  {
   "cell_type": "markdown",
   "id": "eaf0d137",
   "metadata": {},
   "source": [
    "### \"Financial data is definitely not uniform. A lot of financial data conforms to Benford's law, which says that in some types of real-world data, the lead digits are not equally likely.\" - Chapter 12, Humble Pi"
   ]
  },
  {
   "cell_type": "markdown",
   "id": "e8c7a093",
   "metadata": {},
   "source": [
    "While reading Matt Parker's book \"Humble Pi\" in Chapter 12, I came across Parker's mention of how financial data are not uniform, and many of them follow Benford's Law. This got me curious, so I decided to check if this is true by looking at data about stock returns."
   ]
  },
  {
   "cell_type": "markdown",
   "id": "f3ad7f2a",
   "metadata": {},
   "source": [
    "## Benford's Law"
   ]
  },
  {
   "cell_type": "markdown",
   "id": "446c39e4",
   "metadata": {},
   "source": [
    "Benford's Law is an observation where in many naturally occurring datasets, the first digit of numbers is more likely to be small (1, 2, 3, etc.) rather than large (9). Benford's Law is utilized in various fields, including accounting fraud detection, the analysis of election data, the detection of scientific fraud, and the examination of macroeconomic data."
   ]
  },
  {
   "cell_type": "markdown",
   "id": "454221b3",
   "metadata": {},
   "source": [
    "## Stock Returns Data"
   ]
  },
  {
   "cell_type": "markdown",
   "id": "4fea2a5d",
   "metadata": {},
   "source": [
    "I retrieved price data for the S&P 500 index from Yahoo! Finance, spanning from the beginning of the year 2000 up to the present day. Then I calculated the daily logarithmic returns. Logarithmic returns offer a more accurate measure of the percentage change in the stock market over a period of time. I got rid of rows with zero(3) and missing(1) returns. Then I multiplied entire logarithmic returns data by 1,000,000 to resize the lowest return value. Because some returns are negative, I calculated absolute values of the returns and then extracted the lead digits for each absolute values and stored in a new column. "
   ]
  },
  {
   "cell_type": "code",
   "execution_count": 21,
   "id": "acdf3e94",
   "metadata": {},
   "outputs": [
    {
     "name": "stdout",
     "output_type": "stream",
     "text": [
      "[*********************100%%**********************]  1 of 1 completed\n"
     ]
    },
    {
     "data": {
      "text/html": [
       "<div>\n",
       "<style scoped>\n",
       "    .dataframe tbody tr th:only-of-type {\n",
       "        vertical-align: middle;\n",
       "    }\n",
       "\n",
       "    .dataframe tbody tr th {\n",
       "        vertical-align: top;\n",
       "    }\n",
       "\n",
       "    .dataframe thead th {\n",
       "        text-align: right;\n",
       "    }\n",
       "</style>\n",
       "<table border=\"1\" class=\"dataframe\">\n",
       "  <thead>\n",
       "    <tr style=\"text-align: right;\">\n",
       "      <th></th>\n",
       "      <th>Open</th>\n",
       "      <th>High</th>\n",
       "      <th>Low</th>\n",
       "      <th>Close</th>\n",
       "      <th>Adj Close</th>\n",
       "      <th>Volume</th>\n",
       "      <th>Log_Returns</th>\n",
       "      <th>S_Log_Returns</th>\n",
       "      <th>Abs_Log_Returns</th>\n",
       "      <th>lead_digit</th>\n",
       "    </tr>\n",
       "    <tr>\n",
       "      <th>Date</th>\n",
       "      <th></th>\n",
       "      <th></th>\n",
       "      <th></th>\n",
       "      <th></th>\n",
       "      <th></th>\n",
       "      <th></th>\n",
       "      <th></th>\n",
       "      <th></th>\n",
       "      <th></th>\n",
       "      <th></th>\n",
       "    </tr>\n",
       "  </thead>\n",
       "  <tbody>\n",
       "    <tr>\n",
       "      <th>2014-10-02</th>\n",
       "      <td>1945.829956</td>\n",
       "      <td>1952.319946</td>\n",
       "      <td>1926.030029</td>\n",
       "      <td>1946.170044</td>\n",
       "      <td>1946.170044</td>\n",
       "      <td>4012510000</td>\n",
       "      <td>0.000005</td>\n",
       "      <td>5.143328</td>\n",
       "      <td>5.143328</td>\n",
       "      <td>5</td>\n",
       "    </tr>\n",
       "    <tr>\n",
       "      <th>2013-04-24</th>\n",
       "      <td>1578.780029</td>\n",
       "      <td>1583.000000</td>\n",
       "      <td>1575.800049</td>\n",
       "      <td>1578.790039</td>\n",
       "      <td>1578.790039</td>\n",
       "      <td>3598240000</td>\n",
       "      <td>0.000006</td>\n",
       "      <td>6.340170</td>\n",
       "      <td>6.340170</td>\n",
       "      <td>6</td>\n",
       "    </tr>\n",
       "    <tr>\n",
       "      <th>2013-01-24</th>\n",
       "      <td>1494.810059</td>\n",
       "      <td>1502.270020</td>\n",
       "      <td>1489.459961</td>\n",
       "      <td>1494.819946</td>\n",
       "      <td>1494.819946</td>\n",
       "      <td>3699430000</td>\n",
       "      <td>0.000007</td>\n",
       "      <td>6.614662</td>\n",
       "      <td>6.614662</td>\n",
       "      <td>6</td>\n",
       "    </tr>\n",
       "    <tr>\n",
       "      <th>2018-09-28</th>\n",
       "      <td>2910.030029</td>\n",
       "      <td>2920.530029</td>\n",
       "      <td>2907.500000</td>\n",
       "      <td>2913.979980</td>\n",
       "      <td>2913.979980</td>\n",
       "      <td>3461680000</td>\n",
       "      <td>-0.000007</td>\n",
       "      <td>-6.870144</td>\n",
       "      <td>6.870144</td>\n",
       "      <td>6</td>\n",
       "    </tr>\n",
       "    <tr>\n",
       "      <th>2006-10-31</th>\n",
       "      <td>1377.930054</td>\n",
       "      <td>1381.209961</td>\n",
       "      <td>1372.189941</td>\n",
       "      <td>1377.939941</td>\n",
       "      <td>1377.939941</td>\n",
       "      <td>2803030000</td>\n",
       "      <td>0.000007</td>\n",
       "      <td>7.175734</td>\n",
       "      <td>7.175734</td>\n",
       "      <td>7</td>\n",
       "    </tr>\n",
       "    <tr>\n",
       "      <th>2006-06-20</th>\n",
       "      <td>1240.119995</td>\n",
       "      <td>1249.010010</td>\n",
       "      <td>1238.869995</td>\n",
       "      <td>1240.119995</td>\n",
       "      <td>1240.119995</td>\n",
       "      <td>2232950000</td>\n",
       "      <td>-0.000008</td>\n",
       "      <td>-8.071578</td>\n",
       "      <td>8.071578</td>\n",
       "      <td>8</td>\n",
       "    </tr>\n",
       "    <tr>\n",
       "      <th>2005-04-11</th>\n",
       "      <td>1181.199951</td>\n",
       "      <td>1184.069946</td>\n",
       "      <td>1178.689941</td>\n",
       "      <td>1181.209961</td>\n",
       "      <td>1181.209961</td>\n",
       "      <td>1525310000</td>\n",
       "      <td>0.000008</td>\n",
       "      <td>8.474199</td>\n",
       "      <td>8.474199</td>\n",
       "      <td>8</td>\n",
       "    </tr>\n",
       "    <tr>\n",
       "      <th>2001-10-31</th>\n",
       "      <td>1059.790039</td>\n",
       "      <td>1074.790039</td>\n",
       "      <td>1057.550049</td>\n",
       "      <td>1059.780029</td>\n",
       "      <td>1059.780029</td>\n",
       "      <td>1352500000</td>\n",
       "      <td>-0.000009</td>\n",
       "      <td>-9.445091</td>\n",
       "      <td>9.445091</td>\n",
       "      <td>9</td>\n",
       "    </tr>\n",
       "    <tr>\n",
       "      <th>2002-06-04</th>\n",
       "      <td>1040.680054</td>\n",
       "      <td>1046.060059</td>\n",
       "      <td>1030.520020</td>\n",
       "      <td>1040.689941</td>\n",
       "      <td>1040.689941</td>\n",
       "      <td>1466600000</td>\n",
       "      <td>0.000010</td>\n",
       "      <td>9.501141</td>\n",
       "      <td>9.501141</td>\n",
       "      <td>9</td>\n",
       "    </tr>\n",
       "    <tr>\n",
       "      <th>2021-11-15</th>\n",
       "      <td>4689.299805</td>\n",
       "      <td>4697.419922</td>\n",
       "      <td>4672.859863</td>\n",
       "      <td>4682.799805</td>\n",
       "      <td>4682.799805</td>\n",
       "      <td>3488410000</td>\n",
       "      <td>-0.000011</td>\n",
       "      <td>-10.739878</td>\n",
       "      <td>10.739878</td>\n",
       "      <td>1</td>\n",
       "    </tr>\n",
       "    <tr>\n",
       "      <th>2012-07-11</th>\n",
       "      <td>1341.400024</td>\n",
       "      <td>1345.000000</td>\n",
       "      <td>1333.250000</td>\n",
       "      <td>1341.449951</td>\n",
       "      <td>1341.449951</td>\n",
       "      <td>3426290000</td>\n",
       "      <td>-0.000015</td>\n",
       "      <td>-14.923689</td>\n",
       "      <td>14.923689</td>\n",
       "      <td>1</td>\n",
       "    </tr>\n",
       "    <tr>\n",
       "      <th>2014-08-06</th>\n",
       "      <td>1917.290039</td>\n",
       "      <td>1927.910034</td>\n",
       "      <td>1911.449951</td>\n",
       "      <td>1920.239990</td>\n",
       "      <td>1920.239990</td>\n",
       "      <td>3539150000</td>\n",
       "      <td>0.000016</td>\n",
       "      <td>15.638426</td>\n",
       "      <td>15.638426</td>\n",
       "      <td>1</td>\n",
       "    </tr>\n",
       "  </tbody>\n",
       "</table>\n",
       "</div>"
      ],
      "text/plain": [
       "                   Open         High          Low        Close    Adj Close  \\\n",
       "Date                                                                          \n",
       "2014-10-02  1945.829956  1952.319946  1926.030029  1946.170044  1946.170044   \n",
       "2013-04-24  1578.780029  1583.000000  1575.800049  1578.790039  1578.790039   \n",
       "2013-01-24  1494.810059  1502.270020  1489.459961  1494.819946  1494.819946   \n",
       "2018-09-28  2910.030029  2920.530029  2907.500000  2913.979980  2913.979980   \n",
       "2006-10-31  1377.930054  1381.209961  1372.189941  1377.939941  1377.939941   \n",
       "2006-06-20  1240.119995  1249.010010  1238.869995  1240.119995  1240.119995   \n",
       "2005-04-11  1181.199951  1184.069946  1178.689941  1181.209961  1181.209961   \n",
       "2001-10-31  1059.790039  1074.790039  1057.550049  1059.780029  1059.780029   \n",
       "2002-06-04  1040.680054  1046.060059  1030.520020  1040.689941  1040.689941   \n",
       "2021-11-15  4689.299805  4697.419922  4672.859863  4682.799805  4682.799805   \n",
       "2012-07-11  1341.400024  1345.000000  1333.250000  1341.449951  1341.449951   \n",
       "2014-08-06  1917.290039  1927.910034  1911.449951  1920.239990  1920.239990   \n",
       "\n",
       "                Volume  Log_Returns  S_Log_Returns  Abs_Log_Returns lead_digit  \n",
       "Date                                                                            \n",
       "2014-10-02  4012510000     0.000005       5.143328         5.143328          5  \n",
       "2013-04-24  3598240000     0.000006       6.340170         6.340170          6  \n",
       "2013-01-24  3699430000     0.000007       6.614662         6.614662          6  \n",
       "2018-09-28  3461680000    -0.000007      -6.870144         6.870144          6  \n",
       "2006-10-31  2803030000     0.000007       7.175734         7.175734          7  \n",
       "2006-06-20  2232950000    -0.000008      -8.071578         8.071578          8  \n",
       "2005-04-11  1525310000     0.000008       8.474199         8.474199          8  \n",
       "2001-10-31  1352500000    -0.000009      -9.445091         9.445091          9  \n",
       "2002-06-04  1466600000     0.000010       9.501141         9.501141          9  \n",
       "2021-11-15  3488410000    -0.000011     -10.739878        10.739878          1  \n",
       "2012-07-11  3426290000    -0.000015     -14.923689        14.923689          1  \n",
       "2014-08-06  3539150000     0.000016      15.638426        15.638426          1  "
      ]
     },
     "execution_count": 21,
     "metadata": {},
     "output_type": "execute_result"
    }
   ],
   "source": [
    "import datetime as dt\n",
    "import pandas as pd\n",
    "import numpy as np\n",
    "import yfinance as yf\n",
    "import matplotlib.pyplot as plt\n",
    "\n",
    "# Set the start and end dates\n",
    "start_date = \"2000-01-01\"\n",
    "end_date = dt.datetime.now()\n",
    "\n",
    "# Fetch S&P 500 data from Yahoo Finance\n",
    "snp500_data = yf.download('^GSPC', start=start_date, end=end_date)\n",
    "\n",
    "# Calculate daily log returns\n",
    "snp500_data['Log_Returns'] = np.log(snp500_data['Adj Close'] / snp500_data['Adj Close'].shift(1))\n",
    "\n",
    "# Drop the zero returns \n",
    "snp500_data.drop(snp500_data[snp500_data['Log_Returns'] == 0].index, inplace=True)\n",
    "\n",
    "# Drop rows with missing values (NaN)\n",
    "snp500_data.dropna(inplace=True)\n",
    "\n",
    "# Scale log_returns by 1,000,000\n",
    "snp500_data['S_Log_Returns'] = snp500_data['Log_Returns'] * 1000000\n",
    "\n",
    "# Calculate absolute log returns and add them as a new column\n",
    "snp500_data['Abs_Log_Returns'] = np.abs(snp500_data['S_Log_Returns'])\n",
    "\n",
    "# Drop the zero returns \n",
    "snp500_data.drop(snp500_data[snp500_data['Abs_Log_Returns'] == 0].index, inplace=True)\n",
    "\n",
    "# Sort the DataFrame by absolute log returns in ascending order\n",
    "snp500_data.sort_values(by='Abs_Log_Returns', ascending=True, inplace=True)\n",
    "\n",
    "# Save the lead digits in a new column\n",
    "snp500_data['lead_digit'] = snp500_data['Abs_Log_Returns'].astype(str).str[0]\n",
    "\n",
    "snp500_data.head(12)"
   ]
  },
  {
   "cell_type": "markdown",
   "id": "44872511",
   "metadata": {},
   "source": [
    "## Benford Percentages"
   ]
  },
  {
   "cell_type": "markdown",
   "id": "0864baf5",
   "metadata": {},
   "source": [
    "The next step was to calculate and compare the frequency of each lead digit, in percentage, with the benford percentages. Benford's percentages are as follows: 30.1%, 17.6%, 12.5%, 9.7%, 7.9%, 6.7%, 5.8%, 5.1%, and 4.6%, each corresponding to the first digits 1 through 9, respectively."
   ]
  },
  {
   "cell_type": "code",
   "execution_count": 12,
   "id": "6d17cc74",
   "metadata": {},
   "outputs": [],
   "source": [
    "# Count the frequency of each digit\n",
    "digit_counts = snp500_data['lead_digit'].value_counts().sort_index()\n",
    "\n",
    "# Calculate the total count\n",
    "total_count = digit_counts.sum()\n",
    "\n",
    "# Calculate the percentage of each digit\n",
    "digit_percentages = (digit_counts / total_count) * 100\n",
    "\n",
    "# Benford's Law expectations (percentage of each first digit)\n",
    "benford_percentages = [30.1, 17.6, 12.5, 9.7, 7.9, 6.7, 5.8, 5.1, 4.6]"
   ]
  },
  {
   "cell_type": "markdown",
   "id": "12274516",
   "metadata": {},
   "source": [
    "## Plot: Observed vs. Benford's Law"
   ]
  },
  {
   "cell_type": "code",
   "execution_count": 22,
   "id": "ad92ac7b",
   "metadata": {},
   "outputs": [
    {
     "data": {
      "image/png": "[encoded data removed]",
      "text/plain": [
       "<Figure size 936x576 with 1 Axes>"
      ]
     },
     "metadata": {
      "needs_background": "light"
     },
     "output_type": "display_data"
    }
   ],
   "source": [
    "# Create a bar plot for the observed percentages and add Benford's Law line\n",
    "plt.figure(figsize=(13, 8))\n",
    "plt.bar(digit_percentages.index, digit_percentages.values, label='Observed Percentages', alpha=0.7)\n",
    "plt.plot(range(9), benford_percentages, color='red', marker='o', linestyle='-', label=\"Benford's Law\")\n",
    "plt.title('First Digit Frequency (Observed vs. Benford\\'s Law)')\n",
    "plt.xlabel('First Digit')\n",
    "plt.ylabel('Percentage')\n",
    "plt.yticks(np.arange(0, max(digit_percentages.values) + 1, 1))\n",
    "plt.legend()\n",
    "plt.show()"
   ]
  },
  {
   "cell_type": "markdown",
   "id": "5d237c17",
   "metadata": {},
   "source": [
    "After plotting a graph for Observed vs. Benford's Law, it was noticed that the frequency of lead digits of scaled absolute returns for S&P 500 index somewhat mimics Benford's Law, with the data following a similar pattern as in Benford's Law."
   ]
  },
  {
   "cell_type": "markdown",
   "id": "3a4ff970",
   "metadata": {},
   "source": [
    "### Reference"
   ]
  },
  {
   "cell_type": "markdown",
   "id": "e70b442f",
   "metadata": {},
   "source": [
    "- [Benford's Law](https://en.wikipedia.org/wiki/Benford%27s_law)\n",
    "- [What Are Logarithmic Returns](https://saturncloud.io/blog/what-are-logarithmic-returns-and-how-to-calculate-them-in-pandas-dataframe/#:~:text=Logarithmic%20returns%20are%20important%20in,over%20a%20period%20of%20time.)\n",
    "    "
   ]
  }
 ],
 "metadata": {
  "kernelspec": {
   "display_name": "Python 3 (ipykernel)",
   "language": "python",
   "name": "python3"
  },
  "language_info": {
   "codemirror_mode": {
    "name": "ipython",
    "version": 3
   },
   "file_extension": ".py",
   "mimetype": "text/x-python",
   "name": "python",
   "nbconvert_exporter": "python",
   "pygments_lexer": "ipython3",
   "version": "3.9.12"
  }
 },
 "nbformat": 4,
 "nbformat_minor": 5
}
